{
 "cells": [
  {
   "cell_type": "code",
   "execution_count": 1,
   "id": "d9be1232-23ae-4b09-a226-506b31d249fb",
   "metadata": {
    "tags": []
   },
   "outputs": [
    {
     "name": "stderr",
     "output_type": "stream",
     "text": [
      "/Users/josejuan81/anaconda3/lib/python3.11/site-packages/pandas/core/arrays/masked.py:60: UserWarning: Pandas requires version '1.3.6' or newer of 'bottleneck' (version '1.3.5' currently installed).\n",
      "  from pandas.core import (\n"
     ]
    }
   ],
   "source": [
    "from selenium import webdriver\n",
    "from selenium.webdriver.common.by import By\n",
    "from selenium.webdriver.common.keys import Keys\n",
    "import pandas as pd\n",
    "import requests\n",
    "import json\n",
    "from pathlib import Path\n",
    "import time\n",
    "from selenium.common.exceptions import NoSuchElementException"
   ]
  },
  {
   "cell_type": "code",
   "execution_count": 23,
   "id": "8a358783-2f74-4759-a334-7919a1b4a3d1",
   "metadata": {
    "tags": []
   },
   "outputs": [],
   "source": [
    "options = webdriver.ChromeOptions()\n",
    "drv = webdriver.Chrome(options = options)\n",
    "drv.implicitly_wait(8)"
   ]
  },
  {
   "cell_type": "code",
   "execution_count": 30,
   "id": "f3c92fdc-021e-4568-97c1-54ec06678636",
   "metadata": {
    "tags": []
   },
   "outputs": [],
   "source": [
    "url = 'https://www.metro.pe/abarrotes'\n",
    "drv.get(url)"
   ]
  },
  {
   "cell_type": "code",
   "execution_count": 32,
   "id": "7d7f7823-bef5-45f0-9edf-06353ce76efd",
   "metadata": {
    "tags": []
   },
   "outputs": [
    {
     "data": {
      "text/plain": [
       "7331"
      ]
     },
     "execution_count": 32,
     "metadata": {},
     "output_type": "execute_result"
    }
   ],
   "source": [
    "int(drv.execute_script(\"return document.body.scrollHeight\"))"
   ]
  },
  {
   "cell_type": "code",
   "execution_count": 34,
   "id": "47d4e389-0ef4-4053-a3e5-19fb43d690f9",
   "metadata": {},
   "outputs": [],
   "source": [
    "drv.execute_script(\"window.scrollTo(0, 8000);\")"
   ]
  },
  {
   "cell_type": "code",
   "execution_count": null,
   "id": "c3ef0674-1f24-4674-b906-ca4eef4858a2",
   "metadata": {},
   "outputs": [],
   "source": []
  }
 ],
 "metadata": {
  "kernelspec": {
   "display_name": "Python 3 (ipykernel)",
   "language": "python",
   "name": "python3"
  },
  "language_info": {
   "codemirror_mode": {
    "name": "ipython",
    "version": 3
   },
   "file_extension": ".py",
   "mimetype": "text/x-python",
   "name": "python",
   "nbconvert_exporter": "python",
   "pygments_lexer": "ipython3",
   "version": "3.11.4"
  }
 },
 "nbformat": 4,
 "nbformat_minor": 5
}
