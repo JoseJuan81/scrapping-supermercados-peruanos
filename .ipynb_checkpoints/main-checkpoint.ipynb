{
 "cells": [
  {
   "cell_type": "code",
   "execution_count": 1,
   "id": "d9be1232-23ae-4b09-a226-506b31d249fb",
   "metadata": {
    "tags": []
   },
   "outputs": [],
   "source": [
    "from selenium import webdriver\n",
    "from selenium.webdriver.common.by import By\n",
    "from selenium.webdriver.common.keys import Keys\n",
    "import pandas as pd\n",
    "import requests\n",
    "import json\n",
    "from pathlib import Path\n",
    "import time"
   ]
  },
  {
   "cell_type": "code",
   "execution_count": 2,
   "id": "0f783ad0-9057-4945-ace5-55170209caf2",
   "metadata": {
    "tags": []
   },
   "outputs": [],
   "source": [
    "#Driver\n",
    "options = webdriver.ChromeOptions()\n",
    "driver = webdriver.Chrome(options = options)"
   ]
  },
  {
   "cell_type": "code",
   "execution_count": 3,
   "id": "fa171762-ec88-4f07-a493-878dab2bee95",
   "metadata": {
    "tags": []
   },
   "outputs": [],
   "source": [
    "url = 'https://tottus.falabella.com.pe/tottus-pe/category/cat13380487/Despensa'"
   ]
  },
  {
   "cell_type": "code",
   "execution_count": 56,
   "id": "071e8162-56a5-424e-b6f8-3878d91b4e22",
   "metadata": {
    "tags": []
   },
   "outputs": [],
   "source": [
    "urls = [\n",
    "    { 'category': 'Abarrotes', 'url': 'https://tottus.falabella.com.pe/tottus-pe/category/cat13380487/Despensa' },\n",
    "    { 'category': 'Desayunos', 'url': 'https://tottus.falabella.com.pe/tottus-pe/category/CATG11957/Desayunos-y-panaderia' },\n",
    "    { 'category': 'Dulces y Snacks', 'url': 'https://tottus.falabella.com.pe/tottus-pe/category/cat13380485/Dulces-y-snacks' },\n",
    "    { 'category': 'Lacteos y Frescos', 'url': 'https://tottus.falabella.com.pe/tottus-pe/category/CATG11959/Lacteos-y-frescos' },\n",
    "    { 'category': 'Congelados', 'url': 'https://tottus.falabella.com.pe/tottus-pe/category/CATG11956/Congelados' },\n",
    "    { 'category': 'Huevos', 'url': 'https://tottus.falabella.com.pe/tottus-pe/category/CATG14204/Huevos' },\n",
    "    { 'category': 'Detergente y cuidados de la ropa', 'url': 'https://tottus.falabella.com.pe/tottus-pe/category/cat13920468/Detergentes-y-cuidado-para-la-ropa' },\n",
    "    { 'category': 'Papel', 'url': 'https://tottus.falabella.com.pe/tottus-pe/category/cat13920469/Papeles' },\n",
    "    { 'category': 'Limpiadores', 'url': 'https://tottus.falabella.com.pe/tottus-pe/category/CATG11963/Lavalozas-y-Limpiadores' },\n",
    "    { 'category': 'Ambientadores y desinfectantes', 'url': 'https://tottus.falabella.com.pe/tottus-pe/category/cat13920471/Ambientales-y-desinfectantes' },\n",
    "    { 'category': 'Utencilios de aseo', 'url': 'https://tottus.falabella.com.pe/tottus-pe/category/cat13920467/Utensilios-de-aseo' },\n",
    "    { 'category': 'Bolsas de basura', 'url': 'https://tottus.falabella.com.pe/tottus-pe/category/CATG14250/Bolsa-de-Basura' },\n",
    "    { 'category': 'Cuidado Capilar', 'url': 'https://tottus.falabella.com.pe/tottus-pe/category/cat5130510/Cuidado-capilar' },\n",
    "    { 'category': 'Cuidado de la Piel', 'url': 'https://tottus.falabella.com.pe/tottus-pe/category/CATG11985/Cuidado-de-la-piel' },\n",
    "    { 'category': 'Cuidado Personal', 'url': 'https://tottus.falabella.com.pe/tottus-pe/category/CATG11986/Cuidado-personal' },\n",
    "    { 'category': 'Salud', 'url': 'https://tottus.falabella.com.pe/tottus-pe/category/cat2600464/Salud' },\n",
    "    { 'category': 'Alimento Bebe', 'url': 'https://tottus.falabella.com.pe/tottus-pe/category/CATG14325/Alimento-de-Bebe' },\n",
    "]"
   ]
  },
  {
   "cell_type": "code",
   "execution_count": 30,
   "id": "03d35166-e8c8-42d5-9338-4433d6e049fd",
   "metadata": {
    "tags": []
   },
   "outputs": [],
   "source": [
    "driver.get(url)"
   ]
  },
  {
   "cell_type": "markdown",
   "id": "89124aeb-6048-4515-849e-0bb0444b1b99",
   "metadata": {},
   "source": [
    "## Flujo\n",
    "- Arreglo de urls con las diferentes categorias de los productos\n",
    "- Paginación de cada una de las páginas\n",
    "- Extracción de datos de cada producto\n",
    "\n",
    "> Bucle de urls y dentro debo hacer el bucle de la paginación y dentro la extracción de datos de los productos"
   ]
  },
  {
   "cell_type": "code",
   "execution_count": 37,
   "id": "066dca3b-47bd-4636-acbb-931705c74cc4",
   "metadata": {
    "tags": []
   },
   "outputs": [],
   "source": [
    "# paginación\n",
    "pagination_arrows = driver.find_elements(By.CSS_SELECTOR, 'div.action-bar div.pagination div.arrow button')"
   ]
  },
  {
   "cell_type": "code",
   "execution_count": 55,
   "id": "49069f3b-912c-4d7f-82f7-b995952c324a",
   "metadata": {
    "tags": []
   },
   "outputs": [],
   "source": [
    "final_page = False\n",
    "\n",
    "while final_page == False:\n",
    "    pagination_arrows = driver.find_elements(By.CSS_SELECTOR, 'div.action-bar div.pagination div.arrow button')\n",
    "    _, next_page = pagination_arrows\n",
    "    final_page = not next_page.is_enabled() if next_page else False\n",
    "    next_page.click()\n",
    "    time.sleep(2)"
   ]
  },
  {
   "cell_type": "code",
   "execution_count": 5,
   "id": "d44ba2a8-64c6-4663-bade-631ae1fc5f2c",
   "metadata": {},
   "outputs": [],
   "source": [
    "products = driver.find_elements(By.CSS_SELECTOR, \"div.grid-pod\")"
   ]
  },
  {
   "cell_type": "code",
   "execution_count": 6,
   "id": "47f48f09-c005-4ed5-a49e-ec9be665f82a",
   "metadata": {
    "tags": []
   },
   "outputs": [
    {
     "data": {
      "text/plain": [
       "48"
      ]
     },
     "execution_count": 6,
     "metadata": {},
     "output_type": "execute_result"
    }
   ],
   "source": [
    "len(products)"
   ]
  },
  {
   "cell_type": "code",
   "execution_count": 7,
   "id": "fbc84803-333b-4cdd-b9a9-a31117614647",
   "metadata": {
    "tags": []
   },
   "outputs": [],
   "source": [
    "def scroll_down(flag = False) -> None:\n",
    "        \"\"\"\n",
    "        Funcion para hacer scroll a la pantalla para que aparezcan\n",
    "        los botones de la paginacion\n",
    "        \"\"\"\n",
    "\n",
    "        action = Keys.END if flag else Keys.PAGE_DOWN\n",
    "        body = driver.find_element(By.CSS_SELECTOR, 'body')\n",
    "        body.send_keys(action)"
   ]
  },
  {
   "cell_type": "code",
   "execution_count": 8,
   "id": "a7e56ee0-4609-4e45-8e0e-d4a1fe0139d5",
   "metadata": {
    "tags": []
   },
   "outputs": [],
   "source": [
    "def scroll_up() -> None:\n",
    "        \"\"\"\n",
    "        Funcion para hacer scroll a la pantalla para que aparezcan\n",
    "        los botones de la paginacion\n",
    "        \"\"\"\n",
    "\n",
    "        body = driver.find_element(By.CSS_SELECTOR, 'body')\n",
    "        body.send_keys(Keys.HOME)"
   ]
  },
  {
   "cell_type": "code",
   "execution_count": 9,
   "id": "1058e192-1ceb-450d-bcd7-8b5556db9e90",
   "metadata": {
    "tags": []
   },
   "outputs": [],
   "source": [
    "scroll_down()\n",
    "time.sleep(1)\n",
    "scroll_down()\n",
    "time.sleep(1)\n",
    "scroll_down()\n",
    "time.sleep(1)\n",
    "scroll_down()\n",
    "time.sleep(1)\n",
    "scroll_down()\n",
    "time.sleep(1)\n",
    "scroll_down()\n",
    "time.sleep(1)\n",
    "scroll_down('end')\n",
    "time.sleep(1)\n",
    "scroll_up()"
   ]
  },
  {
   "cell_type": "code",
   "execution_count": 14,
   "id": "1a37f645-1014-4524-b40f-e7773df905e2",
   "metadata": {
    "tags": []
   },
   "outputs": [],
   "source": [
    "products_data = []\n",
    "for product in products:\n",
    "    _, last_image = product.find_elements(By.CSS_SELECTOR, 'section.layout_grid-view img')\n",
    "    product_data = {\n",
    "        'image': last_image.get_attribute('src'),\n",
    "        'product_brand': product.find_element(By.CSS_SELECTOR, '.pod-title.title-rebrand').text,\n",
    "        'name': product.find_element(By.CSS_SELECTOR, '.pod-subTitle.subTitle-rebrand').text,\n",
    "        'price': product.find_element(By.CSS_SELECTOR, 'li.prices-0 div span').text,\n",
    "        'supermarket_name': 'tottus'\n",
    "    }\n",
    "    products_data.append(product_data)"
   ]
  },
  {
   "cell_type": "code",
   "execution_count": 15,
   "id": "8b2e9c6f-f9a0-4af7-b98b-b939737bda0c",
   "metadata": {
    "tags": []
   },
   "outputs": [
    {
     "data": {
      "text/plain": [
       "[{'image': 'https://s7d2.scene7.com/is/image/TottusPE/42757360_2?wid=240&hei=240&qlt=70',\n",
       "  'product_brand': 'PRIMOR',\n",
       "  'name': 'Aceite vegetal Primor de 900 mL',\n",
       "  'price': 'S/ 9.50',\n",
       "  'supermarket_name': 'tottus'},\n",
       " {'image': 'https://s7d2.scene7.com/is/image/TottusPE/42795112_2?wid=240&hei=240&qlt=70',\n",
       "  'product_brand': 'NICOLINI',\n",
       "  'name': 'Fideos Nicolini Spaghetti 950 g',\n",
       "  'price': 'S/ 5.90',\n",
       "  'supermarket_name': 'tottus'},\n",
       " {'image': 'https://s7d2.scene7.com/is/image/TottusPE/42795115_2?wid=240&hei=240&qlt=70',\n",
       "  'product_brand': 'NICOLINI',\n",
       "  'name': 'Pasta de trigo Nicolini tallarín grueso bolsa de 950 g',\n",
       "  'price': 'S/ 5.90',\n",
       "  'supermarket_name': 'tottus'},\n",
       " {'image': 'https://s7d2.scene7.com/is/image/TottusPE/42757359_2?wid=240&hei=240&qlt=70',\n",
       "  'product_brand': 'PRIMOR',\n",
       "  'name': 'Aceite vegetal Primor Premium de 900 mL',\n",
       "  'price': 'S/ 10.50',\n",
       "  'supermarket_name': 'tottus'},\n",
       " {'image': 'https://s7d2.scene7.com/is/image/TottusPE/10170543_2?wid=240&hei=240&qlt=70',\n",
       "  'product_brand': 'ALACENA',\n",
       "  'name': 'Mayonesa Alacena Doypack 475 g',\n",
       "  'price': 'S/ 13.60',\n",
       "  'supermarket_name': 'tottus'},\n",
       " {'image': 'https://s7d2.scene7.com/is/image/TottusPE/42722378_2?wid=240&hei=240&qlt=70',\n",
       "  'product_brand': 'DON VITTORIO',\n",
       "  'name': 'Fideos Don Vittorio Spaghetti 950 g',\n",
       "  'price': 'S/ 7.30',\n",
       "  'supermarket_name': 'tottus'},\n",
       " {'image': 'https://s7d2.scene7.com/is/image/TottusPE/42795108_2?wid=240&hei=240&qlt=70',\n",
       "  'product_brand': 'DON VITTORIO',\n",
       "  'name': 'Pasta de trigo Don Vittorio Linguini Grosso 950 g',\n",
       "  'price': 'S/ 7.30',\n",
       "  'supermarket_name': 'tottus'},\n",
       " {'image': 'https://s7d2.scene7.com/is/image/TottusPE/41028798_2?wid=240&hei=240&qlt=70',\n",
       "  'product_brand': 'ALACENA',\n",
       "  'name': 'Crema Huancaína Alacena 400 g',\n",
       "  'price': 'S/ 12.40',\n",
       "  'supermarket_name': 'tottus'},\n",
       " {'image': 'https://s7d2.scene7.com/is/image/TottusPE/40926478_2?wid=240&hei=240&qlt=70',\n",
       "  'product_brand': 'ALACENA',\n",
       "  'name': 'Salsa de Rocoto Uchucuta Alacena 400 g',\n",
       "  'price': 'S/ 12.40',\n",
       "  'supermarket_name': 'tottus'},\n",
       " {'image': 'https://s7d2.scene7.com/is/image/TottusPE/40629214_2?wid=240&hei=240&qlt=70',\n",
       "  'product_brand': 'ALACENA',\n",
       "  'name': 'Crema de Ají Tari Alacena 400 g',\n",
       "  'price': 'S/ 12.40',\n",
       "  'supermarket_name': 'tottus'},\n",
       " {'image': 'https://s7d2.scene7.com/is/image/TottusPE/40803350_2?wid=240&hei=240&qlt=70',\n",
       "  'product_brand': 'DON VITTORIO',\n",
       "  'name': 'Salsa Roja Don Vittorio 400 g',\n",
       "  'price': 'S/ 7',\n",
       "  'supermarket_name': 'tottus'},\n",
       " {'image': 'https://e39a9f00db6c5bc097f9-75bc5dce1d64f93372e7c97ed35869cb.ssl.cf1.rackcdn.com/42959421-bDU_8fhR-medium.jpeg',\n",
       "  'product_brand': 'ALACENA',\n",
       "  'name': 'MAYONESA ALACENA 850 GR',\n",
       "  'price': 'S/ 17.60',\n",
       "  'supermarket_name': 'tottus'},\n",
       " {'image': 'https://s7d2.scene7.com/is/image/TottusPE/42654288_1?wid=240&hei=240&qlt=70',\n",
       "  'product_brand': 'LAKANTO',\n",
       "  'name': 'Pancake Mix 454 g',\n",
       "  'price': 'S/ 79',\n",
       "  'supermarket_name': 'tottus'},\n",
       " {'image': 'https://s7d2.scene7.com/is/image/TottusPE/10169574_2?wid=240&hei=240&qlt=70',\n",
       "  'product_brand': 'BLANCA FLOR',\n",
       "  'name': 'Harina Preparada Blanca Flor 1 kg',\n",
       "  'price': 'S/ 8.50',\n",
       "  'supermarket_name': 'tottus'},\n",
       " {'image': 'https://s7d2.scene7.com/is/image/TottusPE/10164488_1?wid=240&hei=240&qlt=70',\n",
       "  'product_brand': 'KNORR',\n",
       "  'name': 'Puré de Papa Knorr 125 g',\n",
       "  'price': 'S/ 3.90',\n",
       "  'supermarket_name': 'tottus'},\n",
       " {'image': 'https://s7d2.scene7.com/is/image/TottusPE/42610264_1?wid=240&hei=240&qlt=70',\n",
       "  'product_brand': 'TOTTUS',\n",
       "  'name': 'Pimienta negra molida Tottus 60 g',\n",
       "  'price': 'S/ 8.40',\n",
       "  'supermarket_name': 'tottus'},\n",
       " {'image': 'https://s7d2.scene7.com/is/image/TottusPE/41260776_2?wid=240&hei=240&qlt=70',\n",
       "  'product_brand': 'MAGGI',\n",
       "  'name': 'Crema para Hongos de 65 g',\n",
       "  'price': 'S/ 3.90',\n",
       "  'supermarket_name': 'tottus'},\n",
       " {'image': 'https://s7d2.scene7.com/is/image/TottusPE/40167225_2?wid=240&hei=240&qlt=70',\n",
       "  'product_brand': 'UNIVERSAL',\n",
       "  'name': 'Chuño Universal 180 g',\n",
       "  'price': 'S/ 3.80',\n",
       "  'supermarket_name': 'tottus'},\n",
       " {'image': 'https://s7d2.scene7.com/is/image/TottusPE/40698736_1?wid=240&hei=240&qlt=70',\n",
       "  'product_brand': 'TOTTUS',\n",
       "  'name': 'Duraznos en Mitades Tottus 820 g',\n",
       "  'price': 'S/ 9.90',\n",
       "  'supermarket_name': 'tottus'},\n",
       " {'image': 'https://s7d2.scene7.com/is/image/TottusPE/41260777_2?wid=240&hei=240&qlt=70',\n",
       "  'product_brand': 'MAGGI',\n",
       "  'name': 'Crema de espárragos Maggi 66 g',\n",
       "  'price': 'S/ 3.90',\n",
       "  'supermarket_name': 'tottus'},\n",
       " {'image': 'https://s7d2.scene7.com/is/image/TottusPE/40765308_1?wid=240&hei=240&qlt=70',\n",
       "  'product_brand': 'TOTTUS',\n",
       "  'name': 'Aceituna Botija con Pepa Tottus 240 g',\n",
       "  'price': 'S/ 7.60',\n",
       "  'supermarket_name': 'tottus'},\n",
       " {'image': 'https://s7d2.scene7.com/is/image/TottusPE/41551613_2?wid=240&hei=240&qlt=70',\n",
       "  'product_brand': 'TOTTUS',\n",
       "  'name': 'Ají Pollero Tottus 100 g',\n",
       "  'price': 'S/ 2.10',\n",
       "  'supermarket_name': 'tottus'},\n",
       " {'image': 'https://s7d2.scene7.com/is/image/TottusPE/42129572_1?wid=240&hei=240&qlt=70',\n",
       "  'product_brand': 'TOTTUS',\n",
       "  'name': 'Pre-mezcla de panqueques con chispas de sabor a chocolate',\n",
       "  'price': 'S/ 6.90',\n",
       "  'supermarket_name': 'tottus'},\n",
       " {'image': 'https://s7d2.scene7.com/is/image/TottusPE/43085642_2?wid=240&hei=240&qlt=70',\n",
       "  'product_brand': 'UNIVERSAL',\n",
       "  'name': 'Gelatina Universal Fresa 130 g',\n",
       "  'price': 'S/ 4.30',\n",
       "  'supermarket_name': 'tottus'},\n",
       " {'image': 'https://s7d2.scene7.com/is/image/TottusPE/42757357_2?wid=240&hei=240&qlt=70',\n",
       "  'product_brand': 'TOTTUS',\n",
       "  'name': 'VINAGRE BLANCO TOTTUS X 1 L',\n",
       "  'price': 'S/ 3.90',\n",
       "  'supermarket_name': 'tottus'},\n",
       " {'image': 'https://s7d2.scene7.com/is/image/TottusPE/41086701_2?wid=240&hei=240&qlt=70',\n",
       "  'product_brand': 'FARAON',\n",
       "  'name': 'Arroz Extra Faraón de 5 Kg',\n",
       "  'price': 'S/ 27.60',\n",
       "  'supermarket_name': 'tottus'},\n",
       " {'image': 'https://s7d2.scene7.com/is/image/TottusPE/10170642_1?wid=240&hei=240&qlt=70',\n",
       "  'product_brand': 'NESTLE',\n",
       "  'name': 'Manjar Blanco Nestlé 1 kg',\n",
       "  'price': 'S/ 20.40',\n",
       "  'supermarket_name': 'tottus'},\n",
       " {'image': 'https://s7d2.scene7.com/is/image/TottusPE/42192810_1?wid=240&hei=240&qlt=70',\n",
       "  'product_brand': 'TOTTUS',\n",
       "  'name': 'Sixpack Trozos De Atún En Aceite Tottus x 170 g',\n",
       "  'price': 'S/ 25.20',\n",
       "  'supermarket_name': 'tottus'},\n",
       " {'image': 'https://s7d2.scene7.com/is/image/TottusPE/41240608_2?wid=240&hei=240&qlt=70',\n",
       "  'product_brand': 'NESTLE',\n",
       "  'name': 'Leche Condensada Nestlé 393 g',\n",
       "  'price': 'S/ 6',\n",
       "  'supermarket_name': 'tottus'},\n",
       " {'image': 'https://s7d2.scene7.com/is/image/TottusPE/10164229_2?wid=240&hei=240&qlt=70',\n",
       "  'product_brand': 'DURYEA',\n",
       "  'name': 'Maizena Duryea Pura Fécula de Maíz 500 g',\n",
       "  'price': 'S/ 9.90',\n",
       "  'supermarket_name': 'tottus'},\n",
       " {'image': 'https://s7d2.scene7.com/is/image/TottusPE/41074828_2?wid=240&hei=240&qlt=70',\n",
       "  'product_brand': 'AJINOMOTO',\n",
       "  'name': 'Sopa Instantánea Ajinomen Sabor gallina 80 g',\n",
       "  'price': 'S/ 1.90',\n",
       "  'supermarket_name': 'tottus'},\n",
       " {'image': 'https://s7d2.scene7.com/is/image/TottusPE/40594675_1?wid=240&hei=240&qlt=70',\n",
       "  'product_brand': 'PRECIO UNO',\n",
       "  'name': 'Aceite de Soya Precio Uno 900 mL',\n",
       "  'price': 'S/ 6.20',\n",
       "  'supermarket_name': 'tottus'},\n",
       " {'image': 'https://s7d2.scene7.com/is/image/TottusPE/42743629_2?wid=240&hei=240&qlt=70',\n",
       "  'product_brand': 'MOLITALIA',\n",
       "  'name': 'Salsa de Tomate Pomarola Clásica - 6 unidades',\n",
       "  'price': 'S/ 11.10',\n",
       "  'supermarket_name': 'tottus'},\n",
       " {'image': 'https://s7d2.scene7.com/is/image/TottusPE/41658367_1?wid=240&hei=240&qlt=70',\n",
       "  'product_brand': 'TOTTUS',\n",
       "  'name': 'Sal de Maras Fina Tottus Orígenes Doypack 600 g',\n",
       "  'price': 'S/ 9.90',\n",
       "  'supermarket_name': 'tottus'},\n",
       " {'image': 'https://s7d2.scene7.com/is/image/TottusPE/40683731_1?wid=240&hei=240&qlt=70',\n",
       "  'product_brand': 'ROYAL',\n",
       "  'name': 'Gelatina en Polvo Royal Sabor a Fresa Sobre 160 g',\n",
       "  'price': 'S/ 4.30',\n",
       "  'supermarket_name': 'tottus'},\n",
       " {'image': 'https://s7d2.scene7.com/is/image/TottusPE/42987604_1?wid=240&hei=240&qlt=70',\n",
       "  'product_brand': 'TOTTUS',\n",
       "  'name': 'PASTA SPAGUETTI TOTTUS X 950G',\n",
       "  'price': 'S/ 5.40',\n",
       "  'supermarket_name': 'tottus'},\n",
       " {'image': 'https://s7d2.scene7.com/is/image/TottusPE/41557413_2?wid=240&hei=240&qlt=70',\n",
       "  'product_brand': 'TOTTUS',\n",
       "  'name': 'Arroz superior Tottus de 10 kg',\n",
       "  'price': 'S/ 41.30',\n",
       "  'supermarket_name': 'tottus'},\n",
       " {'image': 'https://s7d2.scene7.com/is/image/TottusPE/41093854_2?wid=240&hei=240&qlt=70',\n",
       "  'product_brand': 'ALACENA',\n",
       "  'name': 'Ketchup Alacena 380 g',\n",
       "  'price': 'S/ 10',\n",
       "  'supermarket_name': 'tottus'},\n",
       " {'image': 'https://s7d2.scene7.com/is/image/TottusPE/42840505_1?wid=240&hei=240&qlt=70',\n",
       "  'product_brand': 'UMSHA',\n",
       "  'name': 'MEZCLA POLVO UMSHA GELATINA FRESA BOLSA X 120G',\n",
       "  'price': 'S/ 3.70',\n",
       "  'supermarket_name': 'tottus'},\n",
       " {'image': 'https://s7d2.scene7.com/is/image/TottusPE/10175443_2?wid=240&hei=240&qlt=70',\n",
       "  'product_brand': 'MOLITALIA',\n",
       "  'name': 'Harina Preparada Molitalia 1 kg',\n",
       "  'price': 'S/ 7.90',\n",
       "  'supermarket_name': 'tottus'},\n",
       " {'image': 'https://s7d2.scene7.com/is/image/TottusPE/40275956_2?wid=240&hei=240&qlt=70',\n",
       "  'product_brand': 'TOTTUS',\n",
       "  'name': 'Arroz Extra Tottus 5 kg',\n",
       "  'price': 'S/ 19.90',\n",
       "  'supermarket_name': 'tottus'},\n",
       " {'image': 'https://s7d2.scene7.com/is/image/TottusPE/43178896_1?wid=240&hei=240&qlt=70',\n",
       "  'product_brand': 'BLANCA FLOR',\n",
       "  'name': 'Premezcla Blanca Flor Keke Vainilla 750gr',\n",
       "  'price': 'S/ 12.50',\n",
       "  'supermarket_name': 'tottus'},\n",
       " {'image': 'https://s7d2.scene7.com/is/image/TottusPE/10175432_1?wid=240&hei=240&qlt=70',\n",
       "  'product_brand': 'MOLITALIA',\n",
       "  'name': 'Harina sin Preparar Molitalia 1 kg',\n",
       "  'price': 'S/ 6.90',\n",
       "  'supermarket_name': 'tottus'},\n",
       " {'image': 'https://s7d2.scene7.com/is/image/TottusPE/42876831_2?wid=240&hei=240&qlt=70',\n",
       "  'product_brand': 'CAMPOMAR',\n",
       "  'name': 'Trozos de atún en aceite vegetal Campomar de 150 g',\n",
       "  'price': 'S/ 5.50',\n",
       "  'supermarket_name': 'tottus'},\n",
       " {'image': 'https://s7d2.scene7.com/is/image/TottusPE/42187245_2?wid=240&hei=240&qlt=70',\n",
       "  'product_brand': 'TOTTUS',\n",
       "  'name': 'Aceite de Oliva Extra Virgen Tottus 2 L',\n",
       "  'price': 'S/ 97.90',\n",
       "  'supermarket_name': 'tottus'},\n",
       " {'image': 'https://s7d2.scene7.com/is/image/TottusPE/42678089_1?wid=240&hei=240&qlt=70',\n",
       "  'product_brand': \"BOB'S RED MILL\",\n",
       "  'name': \"Harina de Almendra Bob's Red Mill 453 g\",\n",
       "  'price': 'S/ 69',\n",
       "  'supermarket_name': 'tottus'},\n",
       " {'image': 'https://s7d2.scene7.com/is/image/TottusPE/40917088_2?wid=240&hei=240&qlt=70',\n",
       "  'product_brand': 'TOTTUS',\n",
       "  'name': 'Filete de Atún en Agua Tottus 170 g',\n",
       "  'price': 'S/ 4.80',\n",
       "  'supermarket_name': 'tottus'},\n",
       " {'image': 'https://s7d2.scene7.com/is/image/TottusPE/41462534_2?wid=240&hei=240&qlt=70',\n",
       "  'product_brand': 'BLANCA FLOR',\n",
       "  'name': 'Premezcla para Panqueques Caseros de 720 g',\n",
       "  'price': 'S/ 9.29',\n",
       "  'supermarket_name': 'tottus'}]"
      ]
     },
     "execution_count": 15,
     "metadata": {},
     "output_type": "execute_result"
    }
   ],
   "source": [
    "products_data"
   ]
  },
  {
   "cell_type": "code",
   "execution_count": 57,
   "id": "4b2e0e2b-78ab-441d-8ab4-716748fa683f",
   "metadata": {
    "tags": []
   },
   "outputs": [],
   "source": [
    "def test():\n",
    "    yield urls"
   ]
  },
  {
   "cell_type": "code",
   "execution_count": 61,
   "id": "0eca58ce-a719-4c73-bd1d-01c41815c53d",
   "metadata": {
    "tags": []
   },
   "outputs": [],
   "source": [
    "t = test()"
   ]
  },
  {
   "cell_type": "code",
   "execution_count": 62,
   "id": "55472c3d-7867-4a85-a715-d5d79cfb56c8",
   "metadata": {
    "tags": []
   },
   "outputs": [
    {
     "name": "stdout",
     "output_type": "stream",
     "text": [
      "[{'category': 'Abarrotes', 'url': 'https://tottus.falabella.com.pe/tottus-pe/category/cat13380487/Despensa'}, {'category': 'Desayunos', 'url': 'https://tottus.falabella.com.pe/tottus-pe/category/CATG11957/Desayunos-y-panaderia'}, {'category': 'Dulces y Snacks', 'url': 'https://tottus.falabella.com.pe/tottus-pe/category/cat13380485/Dulces-y-snacks'}, {'category': 'Lacteos y Frescos', 'url': 'https://tottus.falabella.com.pe/tottus-pe/category/CATG11959/Lacteos-y-frescos'}, {'category': 'Congelados', 'url': 'https://tottus.falabella.com.pe/tottus-pe/category/CATG11956/Congelados'}, {'category': 'Huevos', 'url': 'https://tottus.falabella.com.pe/tottus-pe/category/CATG14204/Huevos'}, {'category': 'Detergente y cuidados de la ropa', 'url': 'https://tottus.falabella.com.pe/tottus-pe/category/cat13920468/Detergentes-y-cuidado-para-la-ropa'}, {'category': 'Papel', 'url': 'https://tottus.falabella.com.pe/tottus-pe/category/cat13920469/Papeles'}, {'category': 'Limpiadores', 'url': 'https://tottus.falabella.com.pe/tottus-pe/category/CATG11963/Lavalozas-y-Limpiadores'}, {'category': 'Ambientadores y desinfectantes', 'url': 'https://tottus.falabella.com.pe/tottus-pe/category/cat13920471/Ambientales-y-desinfectantes'}, {'category': 'Utencilios de aseo', 'url': 'https://tottus.falabella.com.pe/tottus-pe/category/cat13920467/Utensilios-de-aseo'}, {'category': 'Bolsas de basura', 'url': 'https://tottus.falabella.com.pe/tottus-pe/category/CATG14250/Bolsa-de-Basura'}, {'category': 'Cuidado Capilar', 'url': 'https://tottus.falabella.com.pe/tottus-pe/category/cat5130510/Cuidado-capilar'}, {'category': 'Cuidado de la Piel', 'url': 'https://tottus.falabella.com.pe/tottus-pe/category/CATG11985/Cuidado-de-la-piel'}, {'category': 'Cuidado Personal', 'url': 'https://tottus.falabella.com.pe/tottus-pe/category/CATG11986/Cuidado-personal'}, {'category': 'Salud', 'url': 'https://tottus.falabella.com.pe/tottus-pe/category/cat2600464/Salud'}, {'category': 'Alimento Bebe', 'url': 'https://tottus.falabella.com.pe/tottus-pe/category/CATG14325/Alimento-de-Bebe'}]\n"
     ]
    }
   ],
   "source": [
    "for u in t:\n",
    "    print(u)"
   ]
  },
  {
   "cell_type": "code",
   "execution_count": null,
   "id": "971534dd-77ad-4998-b19f-9edb58f22d9d",
   "metadata": {},
   "outputs": [],
   "source": []
  }
 ],
 "metadata": {
  "kernelspec": {
   "display_name": "Python 3 (ipykernel)",
   "language": "python",
   "name": "python3"
  },
  "language_info": {
   "codemirror_mode": {
    "name": "ipython",
    "version": 3
   },
   "file_extension": ".py",
   "mimetype": "text/x-python",
   "name": "python",
   "nbconvert_exporter": "python",
   "pygments_lexer": "ipython3",
   "version": "3.11.4"
  }
 },
 "nbformat": 4,
 "nbformat_minor": 5
}
